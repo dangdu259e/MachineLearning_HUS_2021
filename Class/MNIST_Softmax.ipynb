{
  "nbformat": 4,
  "nbformat_minor": 5,
  "metadata": {
    "kernelspec": {
      "display_name": "Python 3",
      "language": "python",
      "name": "python3"
    },
    "language_info": {
      "codemirror_mode": {
        "name": "ipython",
        "version": 3
      },
      "file_extension": ".py",
      "mimetype": "text/x-python",
      "name": "python",
      "nbconvert_exporter": "python",
      "pygments_lexer": "ipython3",
      "version": "3.9.5"
    },
    "colab": {
      "name": "MNIST_Softmax.ipynb",
      "provenance": []
    }
  },
  "cells": [
    {
      "cell_type": "code",
      "execution_count": 37,
      "source": [
        "import os\r\n",
        "\r\n",
        "data_path = os.getcwd()\r\n",
        "# train path\r\n",
        "train_images_path = os.path.join(data_path, 'train-images-idx3-ubyte.gz')\r\n",
        "train_labels_path = os.path.join(data_path, 'train-labels-idx1-ubyte.gz')\r\n",
        "# test path\r\n",
        "test_images_path = os.path.join(data_path, 't10k-images-idx3-ubyte.gz')\r\n",
        "test_labels_path = os.path.join(data_path, 't10k-labels-idx1-ubyte.gz')\r\n",
        "\r\n",
        "def get_mnist_data(images_path, labels_path, num_images\r\n",
        "                   , shuffle=False, _is=True, image_size=28):\r\n",
        "    \"\"\"\r\n",
        "        This shuffle param is active when .gz is downloaded at:\r\n",
        "            - 'http://yann.lecun.com/exdb/mnist/'\r\n",
        "            - This function return random num_images in 60000 or 10000 :D \r\n",
        "    \"\"\"\r\n",
        "    # read data\r\n",
        "    import gzip\r\n",
        "    import numpy as np\r\n",
        "\r\n",
        "    f_images = gzip.open(images_path,'r')\r\n",
        "    f_images.read(16)\r\n",
        "    \r\n",
        "    real_num = num_images if not shuffle else (60000 if _is else 10000)\r\n",
        "\r\n",
        "    buf_images = f_images.read(image_size * image_size * real_num)\r\n",
        "    \r\n",
        "    # images\r\n",
        "    images = np.frombuffer(buf_images, dtype=np.uint8).astype(np.float32)\r\n",
        "    images = images.reshape(real_num, image_size, image_size,)\r\n",
        "    \r\n",
        "    # labels   \r\n",
        "    f_labels = gzip.open(labels_path,'r')\r\n",
        "    f_labels.read(8)\r\n",
        "    \r\n",
        "    labels = np.zeros((real_num)).astype(np.int64)\r\n",
        "    for i in range(0, real_num):   \r\n",
        "        buf_labels = f_labels.read(1)\r\n",
        "        labels[i] = np.frombuffer(buf_labels, dtype=np.uint8).astype(np.int64)\r\n",
        "    \r\n",
        "    if shuffle is True:\r\n",
        "        rand_id = np.random.randint(real_num, size=num_images)\r\n",
        "        \r\n",
        "        images = images[rand_id, :]\r\n",
        "#         images = images.reshape(num_images, image_size * image_size)\r\n",
        "        labels = labels[rand_id,]\r\n",
        "    \r\n",
        "    images = images.reshape(num_images, image_size * image_size)\r\n",
        "    return images, labels\r\n",
        "\r\n",
        "train_images, train_labels = get_mnist_data(\r\n",
        "    train_images_path, train_labels_path, 5000, shuffle=True)\r\n",
        "\r\n",
        "test_images, test_labels = get_mnist_data(\r\n",
        "    test_images_path, test_labels_path, 1000, _is=False, shuffle=False)\r\n",
        "\r\n",
        "print(train_images.shape, train_labels.shape)\r\n",
        "print(test_images.shape, test_labels.shape)"
      ],
      "outputs": [
        {
          "output_type": "stream",
          "name": "stdout",
          "text": [
            "(5000, 784) (5000,)\n",
            "(1000, 784) (1000,)\n"
          ]
        }
      ],
      "metadata": {
        "colab": {
          "base_uri": "https://localhost:8080/"
        },
        "id": "4f85cf83",
        "outputId": "86c66c60-56a5-4e65-c825-7d51ffac5158"
      }
    },
    {
      "cell_type": "code",
      "execution_count": 38,
      "source": [
        "def convert_labels(y, C):\n",
        "    from scipy import sparse \n",
        "    Y = sparse.coo_matrix((np.ones_like(y), \n",
        "        (y, np.arange(len(y)))), shape = (C, len(y))).toarray()\n",
        "    return Y \n",
        "\n",
        "def softmax_stable(Z):\n",
        "    e_Z = np.exp(Z - np.max(Z, axis = 0, keepdims = True))\n",
        "    A = e_Z / e_Z.sum(axis = 0)\n",
        "    return A\n",
        "\n",
        "def pred(W, X):\n",
        "    A = softmax_stable(W.T.dot(X))\n",
        "    return np.argmax(A, axis = 0)"
      ],
      "outputs": [],
      "metadata": {
        "id": "a1777ebf"
      }
    },
    {
      "cell_type": "code",
      "execution_count": 39,
      "source": [
        "# for display and test digit :D \n",
        "import random\n",
        "import numpy as np\n",
        "\n",
        "index = random.randint(0, 1000)\n",
        "print(train_labels[index], test_labels[index])\n",
        "\n",
        "def get_image(image):\n",
        "    return image.reshape(28, 28)\n",
        "\n",
        "import matplotlib.pyplot as plt\n",
        "train_image = np.asarray(get_image(train_images[index])).squeeze()\n",
        "test_image = np.asarray(get_image(test_images[index])).squeeze()\n",
        "\n",
        "plt.figure()\n",
        "\n",
        "#subplot(r,c) provide the no. of rows and columns\n",
        "f, axarr = plt.subplots(1, 2) \n",
        "\n",
        "# use the created array to output your multiple images. In this case I have stacked 4 images vertically\n",
        "axarr[0].imshow(train_image)\n",
        "axarr[1].imshow(test_image)\n",
        "plt.show()"
      ],
      "outputs": [
        {
          "output_type": "stream",
          "name": "stdout",
          "text": [
            "0 8\n"
          ]
        },
        {
          "output_type": "display_data",
          "data": {
            "text/plain": [
              "<Figure size 432x288 with 0 Axes>"
            ]
          },
          "metadata": {}
        },
        {
          "output_type": "display_data",
          "data": {
            "text/plain": [
              "<Figure size 432x288 with 2 Axes>"
            ],
            "image/png": "[encoded data removed]"
          },
          "metadata": {
            "needs_background": "light"
          }
        }
      ],
      "metadata": {
        "colab": {
          "base_uri": "https://localhost:8080/",
          "height": 237
        },
        "id": "007b3463",
        "outputId": "87114471-95e4-4acd-b6fe-7a47ae025786"
      }
    },
    {
      "cell_type": "code",
      "execution_count": 40,
      "source": [
        "X_train = np.concatenate((np.ones((1, train_images.shape[0])), train_images.T), axis = 0)\n",
        "Y_train = convert_labels(train_labels, 10)\n",
        "print(X_train.shape)\n",
        "print(Y_train.shape)\n",
        "\n",
        "X_test = np.concatenate((np.ones((1, test_images.shape[0])), test_images.T), axis = 0)\n",
        "Y_test = convert_labels(test_labels, 10)\n",
        "print(X_test.shape)\n",
        "print(Y_test.shape)"
      ],
      "outputs": [
        {
          "output_type": "stream",
          "name": "stdout",
          "text": [
            "(785, 5000)\n",
            "(10, 5000)\n",
            "(785, 1000)\n",
            "(10, 1000)\n"
          ]
        }
      ],
      "metadata": {
        "colab": {
          "base_uri": "https://localhost:8080/"
        },
        "id": "9c037b96",
        "outputId": "827c1351-df62-4cf8-dfe2-bdcda9514798"
      }
    },
    {
      "cell_type": "code",
      "execution_count": 41,
      "source": [
        "def _softmax_regression(X, Y, theta, lambda_=0.5,\n",
        "                       iterations=20, learning_rate=1e-5, batch_size=200):\n",
        "    from sklearn.metrics import log_loss\n",
        "    \n",
        "    losses = []\n",
        "    _theta = theta\n",
        "    d, N = X.shape\n",
        "    \n",
        "    for iter_ in range(iterations):\n",
        "        shuffle_index = np.random.permutation(N)\n",
        "        for i in shuffle_index:\n",
        "            xi = X[:, i].reshape(d, 1)\n",
        "            yi = Y[:, i].reshape(10, 1)\n",
        "            ai = softmax_stable(np.dot(_theta.T, xi))\n",
        "            _theta += learning_rate * xi.dot((yi - ai).T)\n",
        "            if (iter_ * N + i) % batch_size == 0:\n",
        "                Y_hat = np.dot(_theta.T, X)\n",
        "                losses.append(log_loss(Y, Y_hat))\n",
        "                \n",
        "        Y_hat = np.dot(_theta.T, X)\n",
        "        print(f\"epoch {iter_} - cost {log_loss(Y, Y_hat)}\")\n",
        "                \n",
        "    return _theta, losses\n",
        "    \n",
        "\n",
        "theta = np.zeros((X_train.shape[0], 10))\n",
        "\n",
        "opt_theta, losses = _softmax_regression(X_train, Y_train, theta)\n",
        "print('training success: ', opt_theta.shape, len(losses))\n"
      ],
      "outputs": [
        {
          "output_type": "stream",
          "name": "stdout",
          "text": [
            "epoch 0 - cost 3959.3055050856433\n",
            "epoch 1 - cost 3936.487121049397\n",
            "epoch 2 - cost 3922.3790422538805\n",
            "epoch 3 - cost 3898.343258436887\n",
            "epoch 4 - cost 3900.284637499414\n",
            "epoch 5 - cost 3912.8263835263087\n",
            "epoch 6 - cost 3913.4469545396073\n",
            "epoch 7 - cost 3883.2856917609033\n",
            "epoch 8 - cost 3893.6779730347384\n",
            "epoch 9 - cost 3889.4426134290616\n",
            "epoch 10 - cost 3881.6648348219037\n",
            "epoch 11 - cost 3892.2791820827442\n",
            "epoch 12 - cost 3891.2351795898803\n",
            "epoch 13 - cost 3894.909441561968\n",
            "epoch 14 - cost 3897.7452787156026\n",
            "epoch 15 - cost 3893.079059931424\n",
            "epoch 16 - cost 3891.7605485928334\n",
            "epoch 17 - cost 3895.052847468441\n",
            "epoch 18 - cost 3893.684690818707\n",
            "epoch 19 - cost 3897.7224973415664\n",
            "training success:  (785, 10) 500\n"
          ]
        }
      ],
      "metadata": {
        "colab": {
          "base_uri": "https://localhost:8080/"
        },
        "id": "94202128",
        "outputId": "c573e22b-d8c7-4f8d-ee93-35a733460cf7"
      }
    },
    {
      "cell_type": "code",
      "execution_count": 42,
      "source": [
        "from sklearn.metrics import accuracy_score\n",
        "print('accuracy training data: ', accuracy_score(train_labels, pred(opt_theta, X_train)))\n",
        "print('accuracy testing data: ', accuracy_score(test_labels, pred(opt_theta, X_test)))"
      ],
      "outputs": [
        {
          "output_type": "stream",
          "name": "stdout",
          "text": [
            "accuracy training data:  0.9598\n",
            "accuracy testing data:  0.859\n"
          ]
        }
      ],
      "metadata": {
        "colab": {
          "base_uri": "https://localhost:8080/"
        },
        "id": "f2cb6de5",
        "outputId": "b4ba02d9-3286-478a-d9f0-9e7c11089c8f"
      }
    },
    {
      "cell_type": "code",
      "execution_count": 43,
      "source": [
        "# display losses plot\n",
        "plt.plot(losses)"
      ],
      "outputs": [
        {
          "output_type": "execute_result",
          "data": {
            "text/plain": [
              "[<matplotlib.lines.Line2D at 0x7f7cc357ded0>]"
            ]
          },
          "metadata": {},
          "execution_count": 43
        },
        {
          "output_type": "display_data",
          "data": {
            "text/plain": [
              "<Figure size 432x288 with 1 Axes>"
            ],
            "image/png": "[encoded data removed]"
          },
          "metadata": {
            "needs_background": "light"
          }
        }
      ],
      "metadata": {
        "colab": {
          "base_uri": "https://localhost:8080/",
          "height": 283
        },
        "id": "11988085",
        "outputId": "c10d16dc-74a3-47a2-8769-b2e630dfedf8"
      }
    }
  ]
}