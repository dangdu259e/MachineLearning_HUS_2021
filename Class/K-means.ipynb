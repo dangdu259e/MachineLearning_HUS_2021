{
 "cells": [
  {
   "cell_type": "code",
   "execution_count": 6,
   "metadata": {},
   "outputs": [],
   "source": [
    "import pandas as pd\n",
    "import numpy as np\n",
    "from sklearn.cluster import KMeans\n",
    "import matplotlib.pyplot as plt\n"
   ]
  },
  {
   "cell_type": "code",
   "execution_count": 7,
   "metadata": {},
   "outputs": [
    {
     "name": "stdout",
     "output_type": "stream",
     "text": [
      "     5.1  3.5  1.4  0.2     Iris-setosa\n",
      "0    4.9  3.0  1.4  0.2     Iris-setosa\n",
      "1    4.7  3.2  1.3  0.2     Iris-setosa\n",
      "2    4.6  3.1  1.5  0.2     Iris-setosa\n",
      "3    5.0  3.6  1.4  0.2     Iris-setosa\n",
      "4    5.4  3.9  1.7  0.4     Iris-setosa\n",
      "..   ...  ...  ...  ...             ...\n",
      "144  6.7  3.0  5.2  2.3  Iris-virginica\n",
      "145  6.3  2.5  5.0  1.9  Iris-virginica\n",
      "146  6.5  3.0  5.2  2.0  Iris-virginica\n",
      "147  6.2  3.4  5.4  2.3  Iris-virginica\n",
      "148  5.9  3.0  5.1  1.8  Iris-virginica\n",
      "\n",
      "[149 rows x 5 columns]\n"
     ]
    },
    {
     "data": {
      "text/plain": "array([[4.9, 3.0, 1.4, 0.2],\n       [6.9, 3.1, 4.9, 1.5],\n       [6.8, 3.2, 5.9, 2.3],\n       [7.1, 3.0, 5.9, 2.1],\n       [5.0, 3.6, 1.4, 0.2],\n       [5.7, 2.9, 4.2, 1.3],\n       [4.6, 3.6, 1.0, 0.2],\n       [5.5, 2.5, 4.0, 1.3],\n       [4.4, 3.0, 1.3, 0.2],\n       [5.5, 2.4, 3.7, 1.0],\n       [6.4, 2.8, 5.6, 2.1],\n       [6.7, 2.5, 5.8, 1.8],\n       [5.4, 3.7, 1.5, 0.2],\n       [5.0, 2.3, 3.3, 1.0],\n       [7.3, 2.9, 6.3, 1.8],\n       [5.5, 2.4, 3.8, 1.1],\n       [6.2, 2.8, 4.8, 1.8],\n       [6.9, 3.1, 5.1, 2.3],\n       [4.8, 3.4, 1.9, 0.2],\n       [5.4, 3.9, 1.7, 0.4],\n       [7.0, 3.2, 4.7, 1.4],\n       [7.7, 3.8, 6.7, 2.2],\n       [5.0, 3.4, 1.6, 0.4],\n       [5.9, 3.2, 4.8, 1.8],\n       [4.9, 2.5, 4.5, 1.7],\n       [5.1, 3.5, 1.4, 0.3],\n       [5.0, 3.0, 1.6, 0.2],\n       [5.6, 2.7, 4.2, 1.3],\n       [5.7, 2.6, 3.5, 1.0],\n       [5.6, 3.0, 4.1, 1.3],\n       [6.0, 3.0, 4.8, 1.8],\n       [5.7, 2.5, 5.0, 2.0],\n       [4.8, 3.4, 1.6, 0.2],\n       [5.1, 3.3, 1.7, 0.5],\n       [4.4, 3.2, 1.3, 0.2],\n       [5.0, 3.5, 1.3, 0.3],\n       [5.6, 2.8, 4.9, 2.0],\n       [6.7, 3.3, 5.7, 2.1],\n       [5.3, 3.7, 1.5, 0.2],\n       [5.0, 3.5, 1.6, 0.6],\n       [6.1, 2.9, 4.7, 1.4],\n       [6.4, 2.7, 5.3, 1.9],\n       [6.5, 2.8, 4.6, 1.5],\n       [6.7, 3.1, 5.6, 2.4],\n       [5.6, 2.5, 3.9, 1.1],\n       [4.8, 3.0, 1.4, 0.1],\n       [6.3, 2.8, 5.1, 1.5],\n       [6.9, 3.2, 5.7, 2.3],\n       [5.1, 3.8, 1.6, 0.2],\n       [5.2, 3.4, 1.4, 0.2],\n       [6.7, 3.1, 4.7, 1.5],\n       [7.7, 2.8, 6.7, 2.0],\n       [6.7, 3.0, 5.0, 1.7],\n       [4.9, 3.1, 1.5, 0.1],\n       [7.4, 2.8, 6.1, 1.9],\n       [6.1, 3.0, 4.6, 1.4],\n       [5.4, 3.9, 1.3, 0.4],\n       [5.8, 2.7, 5.1, 1.9],\n       [6.3, 3.3, 4.7, 1.6],\n       [5.8, 2.7, 3.9, 1.2],\n       [5.8, 2.7, 4.1, 1.0],\n       [5.2, 3.5, 1.5, 0.2],\n       [6.0, 2.2, 5.0, 1.5],\n       [6.7, 3.1, 4.4, 1.4],\n       [7.9, 3.8, 6.4, 2.0],\n       [5.5, 2.3, 4.0, 1.3],\n       [6.8, 2.8, 4.8, 1.4],\n       [7.7, 3.0, 6.1, 2.3],\n       [6.1, 2.8, 4.7, 1.2],\n       [5.7, 2.8, 4.5, 1.3],\n       [6.4, 2.8, 5.6, 2.2],\n       [4.6, 3.2, 1.4, 0.2],\n       [6.4, 3.2, 4.5, 1.5],\n       [7.2, 3.0, 5.8, 1.6],\n       [7.7, 2.6, 6.9, 2.3],\n       [5.5, 3.5, 1.3, 0.2],\n       [5.2, 2.7, 3.9, 1.4],\n       [6.2, 2.2, 4.5, 1.5],\n       [4.9, 3.6, 1.4, 0.1],\n       [4.4, 2.9, 1.4, 0.2],\n       [6.3, 2.5, 4.9, 1.5],\n       [5.0, 3.4, 1.5, 0.2],\n       [7.2, 3.2, 6.0, 1.8],\n       [6.4, 3.1, 5.5, 1.8],\n       [6.9, 3.1, 5.4, 2.1],\n       [5.0, 3.3, 1.4, 0.2],\n       [5.4, 3.4, 1.7, 0.2],\n       [4.3, 3.0, 1.1, 0.1],\n       [6.1, 3.0, 4.9, 1.8],\n       [4.8, 3.1, 1.6, 0.2],\n       [5.7, 3.0, 4.2, 1.2],\n       [5.8, 2.6, 4.0, 1.2],\n       [6.8, 3.0, 5.5, 2.1],\n       [6.3, 3.4, 5.6, 2.4],\n       [5.1, 3.7, 1.5, 0.4],\n       [6.4, 3.2, 5.3, 2.3],\n       [6.7, 3.0, 5.2, 2.3],\n       [4.9, 2.4, 3.3, 1.0],\n       [5.7, 4.4, 1.5, 0.4],\n       [6.4, 2.9, 4.3, 1.3],\n       [6.3, 2.3, 4.4, 1.3],\n       [6.0, 2.7, 5.1, 1.6],\n       [5.5, 4.2, 1.4, 0.2],\n       [6.1, 2.6, 5.6, 1.4],\n       [5.8, 4.0, 1.2, 0.2],\n       [6.0, 2.9, 4.5, 1.5],\n       [6.3, 2.9, 5.6, 1.8],\n       [4.7, 3.2, 1.3, 0.2],\n       [6.3, 2.7, 4.9, 1.8],\n       [6.5, 3.2, 5.1, 2.0],\n       [5.1, 3.8, 1.5, 0.3],\n       [4.6, 3.4, 1.4, 0.3],\n       [6.6, 2.9, 4.6, 1.3],\n       [5.0, 3.2, 1.2, 0.2],\n       [4.6, 3.1, 1.5, 0.2],\n       [5.9, 3.0, 4.2, 1.5],\n       [5.6, 2.9, 3.6, 1.3],\n       [5.9, 3.0, 5.1, 1.8],\n       [5.7, 3.8, 1.7, 0.3],\n       [5.1, 2.5, 3.0, 1.1],\n       [5.4, 3.4, 1.5, 0.4],\n       [5.1, 3.8, 1.9, 0.4],\n       [5.1, 3.4, 1.5, 0.2],\n       [5.6, 3.0, 4.5, 1.5],\n       [6.5, 3.0, 5.8, 2.2],\n       [4.7, 3.2, 1.6, 0.2],\n       [5.2, 4.1, 1.5, 0.1],\n       [6.0, 2.2, 4.0, 1.0],\n       [4.8, 3.0, 1.4, 0.3],\n       [4.9, 3.1, 1.5, 0.2],\n       [7.6, 3.0, 6.6, 2.1],\n       [6.7, 3.3, 5.7, 2.5],\n       [6.3, 3.3, 6.0, 2.5],\n       [5.0, 2.0, 3.5, 1.0],\n       [5.7, 2.8, 4.1, 1.3],\n       [5.5, 2.6, 4.4, 1.2],\n       [4.5, 2.3, 1.3, 0.3],\n       [6.3, 2.5, 5.0, 1.9],\n       [6.6, 3.0, 4.4, 1.4],\n       [6.5, 3.0, 5.5, 1.8],\n       [5.8, 2.8, 5.1, 2.4],\n       [6.2, 3.4, 5.4, 2.3],\n       [6.5, 3.0, 5.2, 2.0],\n       [6.2, 2.9, 4.3, 1.3],\n       [5.4, 3.0, 4.5, 1.5],\n       [6.1, 2.8, 4.0, 1.3],\n       [5.8, 2.7, 5.1, 1.9],\n       [6.0, 3.4, 4.5, 1.6],\n       [7.2, 3.6, 6.1, 2.5]], dtype=object)"
     },
     "execution_count": 7,
     "metadata": {},
     "output_type": "execute_result"
    }
   ],
   "source": [
    "url_dataset = \"./data/bezdekIris.data\"\n",
    "data = pd.read_csv(url_dataset)\n",
    "print(data)\n",
    "# Xáo trộn dữ liệu + xoá chỉ mục hàng \n",
    "data = data.sample(frac=1).reset_index(drop=True)\n",
    "data = data.to_numpy() #numpy type\n",
    "y = data[:,-1]\n",
    "data = np.delete(data, -1, axis = 1)\n",
    "data"
   ]
  },
  {
   "cell_type": "code",
   "execution_count": 8,
   "metadata": {},
   "outputs": [
    {
     "name": "stdout",
     "output_type": "stream",
     "text": [
      "Centers found by scikit-learn:\n",
      "[[6.85       3.07368421 5.74210526 2.07105263]\n",
      " [5.00408163 3.42653061 1.46326531 0.24693878]\n",
      " [5.9016129  2.7483871  4.39354839 1.43387097]]\n"
     ]
    }
   ],
   "source": [
    "kmeans = KMeans(n_clusters=3, random_state=0).fit(data)\n",
    "print('Centers found by scikit-learn:')\n",
    "print(kmeans.cluster_centers_)\n",
    "pred_label = kmeans.predict(data)\n"
   ]
  },
  {
   "cell_type": "code",
   "execution_count": 9,
   "metadata": {},
   "outputs": [
    {
     "name": "stdout",
     "output_type": "stream",
     "text": [
      "origin\n",
      "(149,)\n",
      "[0 1 2 2 0 1 0 1 0 1 2 2 0 1 2 1 2 2 0 0 1 2 0 1 2 0 0 1 1 1 2 2 0 0 0 0 2\n",
      " 2 0 0 1 2 1 2 1 0 2 2 0 0 1 2 1 0 2 1 0 2 1 1 1 0 2 1 2 1 1 2 1 1 2 0 1 2\n",
      " 2 0 1 1 0 0 1 0 2 2 2 0 0 0 2 0 1 1 2 2 0 2 2 1 0 1 1 1 0 2 0 1 2 0 2 2 0\n",
      " 0 1 0 0 1 1 2 0 1 0 0 0 1 2 0 0 1 0 0 2 2 2 1 1 1 0 2 1 2 2 2 2 1 1 1 2 1\n",
      " 2]\n",
      "[1 0 0 0 1 2 1 2 1 2 0 0 1 2 0 2 2 0 1 1 2 0 1 2 2 1 1 2 2 2 2 2 1 1 1 1 2\n",
      " 0 1 1 2 0 2 0 2 1 2 0 1 1 2 0 0 1 0 2 1 2 2 2 2 1 2 2 0 2 2 0 2 2 0 1 2 0\n",
      " 0 1 2 2 1 1 2 1 0 0 0 1 1 1 2 1 2 2 0 0 1 0 0 2 1 2 2 2 1 0 1 2 0 1 2 0 1\n",
      " 1 2 1 1 2 2 2 1 2 1 1 1 2 0 1 1 2 1 1 0 0 0 2 2 2 1 2 2 0 2 0 0 2 2 2 2 2\n",
      " 0]\n"
     ]
    }
   ],
   "source": [
    "print(\"origin\")\n",
    "names = {'Iris-setosa':0,'Iris-versicolor':1, 'Iris-virginica':2}\n",
    "\n",
    "print(y.shape)\n",
    "for i in range(len(y)):\n",
    "    y[i] = names[y[i]]\n",
    "print(y)\n",
    "print(kmeans.labels_)"
   ]
  },
  {
   "cell_type": "code",
   "execution_count": 10,
   "outputs": [
    {
     "name": "stdout",
     "output_type": "stream",
     "text": [
      "[1 0 0 0 1 2 1 2 1 2 0 0 1 2 0 2 2 0 1 1 2 0 1 2 2 1 1 2 2 2 2 2 1 1 1 1 2\n",
      " 0 1 1 2 0 2 0 2 1 2 0 1 1 2 0 0 1 0 2 1 2 2 2 2 1 2 2 0 2 2 0 2 2 0 1 2 0\n",
      " 0 1 2 2 1 1 2 1 0 0 0 1 1 1 2 1 2 2 0 0 1 0 0 2 1 2 2 2 1 0 1 2 0 1 2 0 1\n",
      " 1 2 1 1 2 2 2 1 2 1 1 1 2 0 1 1 2 1 1 0 0 0 2 2 2 1 2 2 0 2 0 0 2 2 2 2 2\n",
      " 0]\n"
     ]
    },
    {
     "data": {
      "text/plain": "<Figure size 432x288 with 1 Axes>",
      "image/png": "[encoded data removed]"
     },
     "metadata": {
      "needs_background": "light"
     },
     "output_type": "display_data"
    }
   ],
   "source": [
    "def kmeans_display(X, label):\n",
    "    K = np.amax(label) + 1\n",
    "    X0 = X[label == 0, :]\n",
    "    X1 = X[label == 1, :]\n",
    "    X2 = X[label == 2, :]\n",
    "\n",
    "    plt.plot(X0[:, 0], X0[:, 1], 'ro', markersize=4, alpha=.8)\n",
    "    plt.plot(X1[:, 0], X1[:, 1], 'go', markersize=4, alpha=.8)\n",
    "    plt.plot(X2[:, 0], X2[:, 1], 'bo', markersize=4, alpha=.8)\n",
    "\n",
    "    plt.axis('equal')\n",
    "    plt.plot()\n",
    "    plt.show()\n",
    "print(pred_label)\n",
    "kmeans_display(data, pred_label)"
   ],
   "metadata": {
    "collapsed": false,
    "pycharm": {
     "name": "#%%\n"
    }
   }
  }
 ],
 "metadata": {
  "kernelspec": {
   "display_name": "Python 3 (ipykernel)",
   "language": "python",
   "name": "python3"
  },
  "language_info": {
   "codemirror_mode": {
    "name": "ipython",
    "version": 3
   },
   "file_extension": ".py",
   "mimetype": "text/x-python",
   "name": "python",
   "nbconvert_exporter": "python",
   "pygments_lexer": "ipython3",
   "version": "3.9.6"
  }
 },
 "nbformat": 4,
 "nbformat_minor": 1
}