{
 "cells": [
  {
   "cell_type": "code",
   "execution_count": 4,
   "metadata": {},
   "outputs": [],
   "source": [
    "import os"
   ]
  },
  {
   "cell_type": "code",
   "execution_count": 1,
   "metadata": {},
   "outputs": [],
   "source": [
    "def read_data(url_file):\n",
    "    data = []\n",
    "    with open(url_file, encoding='utf8') as f:\n",
    "        for line in f:\n",
    "            data.append(line.strip())\n",
    "        f.close()\n",
    "        return data\n",
    "    return None\n",
    "\n",
    "def format_data(url_file):\n",
    "    data = read_data(url_file)\n",
    "    print(len(data))\n",
    "    states = data[0]\n",
    "    sigma =  data[1]\n",
    "    s0 = data[2]\n",
    "    end_states = data[3]\n",
    "    transition = data[4:-1]\n",
    "    return states, sigma,s0, end_states, transition\n",
    "\n",
    "\n",
    "def formart_input(url_file):\n",
    "    states, sigma,s0, end_states, transition = format_data(url_file)\n",
    "    print()"
   ]
  },
  {
   "cell_type": "code",
   "execution_count": null,
   "metadata": {},
   "outputs": [],
   "source": []
  }
 ],
 "metadata": {
  "kernelspec": {
   "display_name": "Python 3 (ipykernel)",
   "language": "python",
   "name": "python3"
  },
  "language_info": {
   "codemirror_mode": {
    "name": "ipython",
    "version": 3
   },
   "file_extension": ".py",
   "mimetype": "text/x-python",
   "name": "python",
   "nbconvert_exporter": "python",
   "pygments_lexer": "ipython3",
   "version": "3.9.6"
  }
 },
 "nbformat": 4,
 "nbformat_minor": 1
}