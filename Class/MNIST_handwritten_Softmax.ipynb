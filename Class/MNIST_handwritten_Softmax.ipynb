{
 "cells": [
  {
   "cell_type": "code",
   "execution_count": 54,
   "metadata": {
    "collapsed": true
   },
   "outputs": [],
   "source": [
    "import numpy as np\n",
    "import requests, gzip, os, hashlib\n",
    "import matplotlib.pyplot as plt\n",
    "import os"
   ]
  },
  {
   "cell_type": "markdown",
   "source": [
    "# Fetch the data"
   ],
   "metadata": {
    "collapsed": false
   }
  },
  {
   "cell_type": "code",
   "execution_count": 55,
   "outputs": [
    {
     "name": "stdout",
     "output_type": "stream",
     "text": [
      "(60000, 28, 28)\n",
      "(10000, 784)\n"
     ]
    }
   ],
   "source": [
    "#fetch data\n",
    "from matplotlib.pyplot import imshow\n",
    "\n",
    "path='F:\\SourceCode\\MachineLearning_HUS_2021\\Class\\MNIST_data'\n",
    "def fetch(url):\n",
    "    fp = os.path.join(path, hashlib.md5(url.encode('utf-8')).hexdigest())\n",
    "    if os.path.isfile(fp):\n",
    "        with open(fp, \"rb\") as f:\n",
    "            data = f.read()\n",
    "    else:\n",
    "        with open(fp, \"wb\") as f:\n",
    "            data = requests.get(url).content\n",
    "            f.write(data)\n",
    "    return np.frombuffer(gzip.decompress(data), dtype=np.uint8).copy()\n",
    "\n",
    "X = fetch(\"http://yann.lecun.com/exdb/mnist/train-images-idx3-ubyte.gz\")[0x10:].reshape((-1, 28, 28))\n",
    "print(X.shape)\n",
    "Y = fetch(\"http://yann.lecun.com/exdb/mnist/train-labels-idx1-ubyte.gz\")[8:]\n",
    "X_test = fetch(\"http://yann.lecun.com/exdb/mnist/t10k-images-idx3-ubyte.gz\")[0x10:].reshape((-1, 28*28))\n",
    "print(X_test.shape)\n",
    "Y_test = fetch(\"http://yann.lecun.com/exdb/mnist/t10k-labels-idx1-ubyte.gz\")[8:]"
   ],
   "metadata": {
    "collapsed": false,
    "pycharm": {
     "name": "#%%\n"
    }
   }
  },
  {
   "cell_type": "markdown",
   "source": [
    "Validation split"
   ],
   "metadata": {
    "collapsed": false
   }
  },
  {
   "cell_type": "code",
   "execution_count": 56,
   "outputs": [],
   "source": [
    "rand=np.arange(5000)\n",
    "np.random.shuffle(rand)\n",
    "train_no=rand[:1000]\n",
    "\n",
    "val_no=np.setdiff1d(rand,train_no)\n",
    "\n",
    "X_train,X_val=X[train_no,:,:],X[val_no,:,:]\n",
    "Y_train,Y_val=Y[train_no],Y[val_no]"
   ],
   "metadata": {
    "collapsed": false,
    "pycharm": {
     "name": "#%%\n"
    }
   }
  },
  {
   "cell_type": "code",
   "execution_count": 57,
   "outputs": [],
   "source": [
    "def init(x,y):\n",
    "    layer=np.random.uniform(-1.,1.,size=(x,y))/np.sqrt(x*y)\n",
    "    return layer.astype(np.float32)\n",
    "\n",
    "np.random.seed(42)\n",
    "l1=init(28*28,128)\n",
    "l2=init(128,10)\n",
    "\n",
    "#Sigmoid funstion\n",
    "def sigmoid(x):\n",
    "    return 1/(np.exp(-x)+1)\n",
    "\n",
    "#derivative of sigmoid\n",
    "def d_sigmoid(x):\n",
    "    return (np.exp(-x))/((np.exp(-x)+1)**2)\n",
    "\n",
    "def softmax(x):\n",
    "    exponents=np.exp(x)\n",
    "    return exponents/np.sum(exponents)"
   ],
   "metadata": {
    "collapsed": false,
    "pycharm": {
     "name": "#%%\n"
    }
   }
  },
  {
   "cell_type": "code",
   "execution_count": 58,
   "outputs": [
    {
     "data": {
      "text/plain": "(array([0.09003057, 0.24472847, 0.66524096]), 1.0)"
     },
     "execution_count": 58,
     "metadata": {},
     "output_type": "execute_result"
    }
   ],
   "source": [
    "out=np.array([1,2,3])\n",
    "softmax(out),sum(softmax(out))"
   ],
   "metadata": {
    "collapsed": false,
    "pycharm": {
     "name": "#%%\n"
    }
   }
  },
  {
   "cell_type": "code",
   "execution_count": 59,
   "outputs": [
    {
     "data": {
      "text/plain": "(array([1.03770332e-053, 3.72007598e-044, 5.09107081e-088, 6.21315959e-049,\n        6.37586958e-059, 1.00000000e+000, 6.47023493e-026, 1.68891188e-048,\n        4.78089288e-025, 1.75258947e-101]),\n 1.0)"
     },
     "execution_count": 59,
     "metadata": {},
     "output_type": "execute_result"
    }
   ],
   "source": [
    "output_of_layer_2=np.array([12,34,-67,23,0,134,76,24,78,-98])\n",
    "a=softmax(output_of_layer_2)\n",
    "a,sum(a)"
   ],
   "metadata": {
    "collapsed": false,
    "pycharm": {
     "name": "#%%\n"
    }
   }
  },
  {
   "cell_type": "code",
   "execution_count": 60,
   "outputs": [
    {
     "data": {
      "text/plain": "(5, 134)"
     },
     "execution_count": 60,
     "metadata": {},
     "output_type": "execute_result"
    }
   ],
   "source": [
    "x=np.argmax(a)\n",
    "x,output_of_layer_2[x]"
   ],
   "metadata": {
    "collapsed": false,
    "pycharm": {
     "name": "#%%\n"
    }
   }
  },
  {
   "cell_type": "code",
   "execution_count": 61,
   "outputs": [],
   "source": [
    "#Softmax\n",
    "def softmax(x):\n",
    "    exp_element=np.exp(x-x.max())\n",
    "    return exp_element/np.sum(exp_element,axis=0)\n",
    "\n",
    "#derivative of softmax\n",
    "def d_softmax(x):\n",
    "    exp_element=np.exp(x-x.max())\n",
    "    return exp_element/np.sum(exp_element,axis=0)*(1-exp_element/np.sum(exp_element,axis=0))\n",
    "#forward and backward pass\n",
    "def forward_backward_pass(x,y):\n",
    "    targets = np.zeros((len(y),10), np.float32)\n",
    "    targets[range(targets.shape[0]),y] = 1\n",
    "\n",
    "\n",
    "    x_l1=x.dot(l1)\n",
    "    x_sigmoid=sigmoid(x_l1)\n",
    "    x_l2=x_sigmoid.dot(l2)\n",
    "    out=softmax(x_l2)\n",
    "\n",
    "\n",
    "    error=2*(out-targets)/out.shape[0]*d_softmax(x_l2)\n",
    "    update_l2=x_sigmoid.T@error\n",
    "\n",
    "\n",
    "    error=((l2).dot(error.T)).T*d_sigmoid(x_l1)\n",
    "    update_l1=x.T@error\n",
    "\n",
    "    return out,update_l1,update_l2"
   ],
   "metadata": {
    "collapsed": false,
    "pycharm": {
     "name": "#%%\n"
    }
   }
  },
  {
   "cell_type": "code",
   "execution_count": 62,
   "outputs": [
    {
     "data": {
      "text/plain": "array([6, 2, 8, 2, 5, 7, 7, 1, 6, 9, 6, 2, 5, 8, 4, 5, 6, 5, 5, 6, 9, 7,\n       2, 3, 4, 0, 1, 8, 8, 9, 0, 9, 3, 6, 5, 3, 1, 7, 8, 4, 7, 3, 6, 2,\n       1, 4, 0, 1, 3, 0, 9, 7, 8, 1, 6, 6, 2, 5, 0, 1, 2, 2, 8, 0, 7, 1,\n       3, 4, 4, 6, 1, 5, 1, 5, 4, 1, 1, 3, 2, 3, 2, 5, 5, 5, 8, 9, 7, 4,\n       4, 2, 5, 8, 2, 6, 5, 9, 0, 3, 3, 3, 4, 3, 1, 6, 0, 8, 8, 9, 3, 1,\n       3, 9, 1, 9, 3, 6, 5, 9, 6, 5, 2, 9, 4, 8, 2, 0, 3, 4, 7, 3, 5, 5,\n       7, 8, 8, 9, 6, 3, 9, 8, 2, 2, 9, 7, 1, 1, 0, 2, 7, 9, 5, 7, 6, 7,\n       4, 6, 5, 2, 8, 6, 4, 8, 2, 6, 5, 5, 3, 8, 1, 9, 8, 2, 3, 5, 5, 2,\n       5, 9, 1, 7, 0, 3, 9, 1, 2, 6, 5, 2, 9, 6, 6, 1, 2, 3, 8, 4, 9, 1,\n       6, 9, 7, 4, 2, 1, 8, 4, 5, 1, 1, 2, 1, 7, 6, 4, 0, 3, 8, 1, 6, 6,\n       6, 2, 0, 0, 6, 2, 1, 9, 1, 7, 2, 5, 9, 4, 0, 7, 7, 7, 2, 6, 7, 7,\n       3, 0, 1, 3, 4, 6, 3, 1, 6, 1, 2, 3, 7, 7, 5, 6, 4, 9, 7, 3, 9, 1,\n       1, 7, 1, 9, 6, 7, 2, 9, 1, 1, 5, 5, 7, 5, 6, 0, 3, 3, 5, 9, 7, 6,\n       4, 8, 1, 6, 9, 3, 3, 2, 4, 4, 5, 4, 9, 4, 8, 1, 0, 3, 3, 5, 4, 0,\n       5, 0, 7, 8, 8, 4, 5, 6, 4, 2, 9, 8, 8, 4, 7, 8, 1, 7, 9, 9, 9, 1,\n       3, 6, 7, 8, 8, 5, 7, 3, 6, 9, 1, 5, 1, 3, 0, 3, 0, 5, 4, 2, 8, 1,\n       6, 3, 1, 6, 2, 8, 1, 6, 5, 4, 5, 8, 3, 7, 4, 7, 1, 0, 7, 1, 0, 6,\n       8, 2, 9, 0, 1, 2, 6, 9, 6, 4, 9, 6, 4, 8, 4, 6, 5, 0, 4, 0, 0, 9,\n       1, 1, 1, 7, 9, 9, 2, 6, 1, 2, 3, 4, 2, 7, 0, 3, 3, 7, 4, 5, 6, 4,\n       7, 8, 7, 8, 1, 3, 1, 6, 4, 7, 8, 6, 9, 6, 7, 4, 7, 1, 6, 4, 5, 3,\n       0, 8, 4, 8, 1, 0, 8, 9, 8, 4, 3, 2, 3, 5, 8, 8, 0, 7, 7, 1, 1, 7,\n       5, 6, 1, 4, 1, 2, 9, 5, 2, 8, 1, 0, 6, 0, 9, 5, 0, 9, 1, 3, 6, 9,\n       2, 9, 4, 9, 4, 2, 9, 2, 1, 9, 5, 7, 1, 2, 2, 2, 5, 6, 4, 3, 7, 8,\n       5, 8, 3, 1, 2, 5, 9, 7, 9, 7, 5, 3, 6, 5, 1, 4, 1, 7, 9, 6, 4, 8,\n       6, 4, 9, 0, 2, 6, 2, 0, 3, 0, 4, 7, 9, 2, 7, 0, 3, 4, 4, 7, 9, 9,\n       4, 5, 3, 4, 8, 6, 2, 3, 3, 9, 2, 6, 3, 2, 9, 5, 4, 2, 0, 8, 7, 6,\n       7, 7, 7, 0, 6, 1, 1, 1, 4, 4, 8, 9, 8, 1, 7, 6, 2, 2, 4, 0, 4, 4,\n       0, 6, 5, 1, 0, 8, 6, 6, 6, 0, 0, 4, 1, 0, 4, 0, 8, 4, 1, 6, 8, 9,\n       8, 5, 2, 5, 5, 3, 9, 7, 2, 6, 3, 4, 8, 3, 0, 8, 9, 3, 1, 1, 6, 5,\n       2, 8, 7, 3, 8, 2, 7, 3, 2, 9, 2, 5, 2, 1, 7, 5, 1, 0, 5, 0, 4, 0,\n       3, 2, 3, 6, 9, 9, 7, 4, 4, 4, 7, 3, 3, 9, 7, 7, 4, 1, 1, 5, 2, 5,\n       0, 6, 9, 9, 3, 2, 7, 3, 9, 2, 6, 9, 4, 1, 3, 8, 0, 8, 7, 3, 9, 6,\n       7, 9, 5, 4, 2, 1, 9, 4, 0, 5, 2, 3, 3, 4, 8, 0, 1, 9, 1, 0, 0, 4,\n       1, 3, 7, 9, 7, 0, 9, 7, 0, 0, 8, 2, 7, 5, 3, 7, 7, 2, 0, 0, 7, 6,\n       3, 2, 8, 2, 1, 5, 1, 1, 5, 3, 9, 1, 0, 7, 5, 7, 8, 9, 9, 7, 5, 1,\n       2, 4, 9, 9, 7, 0, 6, 8, 7, 4, 0, 7, 0, 0, 7, 3, 2, 6, 6, 5, 0, 0,\n       9, 3, 2, 2, 9, 5, 1, 2, 2, 5, 3, 5, 2, 4, 5, 1, 3, 3, 2, 8, 0, 7,\n       0, 0, 8, 7, 2, 6, 3, 1, 2, 5, 2, 0, 3, 2, 1, 2, 4, 3, 8, 3, 3, 9,\n       4, 3, 2, 4, 7, 4, 7, 5, 6, 0, 0, 5, 3, 4, 1, 9, 1, 6, 9, 7, 4, 6,\n       9, 0, 7, 0, 1, 5, 6, 6, 3, 0, 1, 1, 1, 6, 3, 4, 6, 1, 7, 3, 7, 9,\n       3, 4, 1, 0, 2, 3, 9, 6, 2, 8, 5, 9, 2, 1, 4, 8, 4, 4, 7, 4, 3, 4,\n       8, 8, 4, 8, 9, 0, 6, 4, 0, 9, 0, 1, 2, 3, 4, 5, 6, 4, 1, 5, 4, 8,\n       4, 8, 5, 2, 7, 2, 1, 3, 9, 1, 1, 3, 9, 7, 1, 4, 0, 7, 4, 0, 8, 7,\n       5, 7, 0, 8, 5, 6, 1, 9, 5, 2, 6, 6, 5, 4, 3, 0, 6, 9, 1, 3, 5, 7,\n       6, 0, 3, 5, 7, 1, 4, 3, 8, 6, 4, 6, 1, 5, 6, 2, 6, 9, 2, 3, 0, 7,\n       8, 3, 0, 4, 2, 2, 9, 6, 4, 2], dtype=uint8)"
     },
     "execution_count": 62,
     "metadata": {},
     "output_type": "execute_result"
    }
   ],
   "source": [
    "Y_train"
   ],
   "metadata": {
    "collapsed": false,
    "pycharm": {
     "name": "#%%\n"
    }
   }
  },
  {
   "cell_type": "code",
   "execution_count": 63,
   "outputs": [
    {
     "data": {
      "text/plain": "array([[2]], dtype=uint8)"
     },
     "execution_count": 63,
     "metadata": {},
     "output_type": "execute_result"
    }
   ],
   "source": [
    "ex=np.array(Y_train[1]).reshape(1,1)\n",
    "ex"
   ],
   "metadata": {
    "collapsed": false,
    "pycharm": {
     "name": "#%%\n"
    }
   }
  },
  {
   "cell_type": "code",
   "execution_count": 64,
   "outputs": [
    {
     "data": {
      "text/plain": "array([[0., 0., 1., 0., 0., 0., 0., 0., 0., 0.]], dtype=float32)"
     },
     "execution_count": 64,
     "metadata": {},
     "output_type": "execute_result"
    }
   ],
   "source": [
    "example_out = np.zeros((len(ex),10), np.float32)\n",
    "example_out[range(example_out.shape[0]),ex] = 1\n",
    "example_out"
   ],
   "metadata": {
    "collapsed": false,
    "pycharm": {
     "name": "#%%\n"
    }
   }
  },
  {
   "cell_type": "code",
   "execution_count": 65,
   "outputs": [
    {
     "name": "stdout",
     "output_type": "stream",
     "text": [
      "For 0th epoch: train accuracy: 0.023 | validation accuracy:0.070\n",
      "For 500th epoch: train accuracy: 0.711 | validation accuracy:0.680\n",
      "For 1000th epoch: train accuracy: 0.773 | validation accuracy:0.747\n",
      "For 1500th epoch: train accuracy: 0.789 | validation accuracy:0.767\n",
      "For 2000th epoch: train accuracy: 0.797 | validation accuracy:0.780\n",
      "For 2500th epoch: train accuracy: 0.859 | validation accuracy:0.788\n",
      "For 3000th epoch: train accuracy: 0.844 | validation accuracy:0.794\n",
      "For 3500th epoch: train accuracy: 0.836 | validation accuracy:0.798\n",
      "For 4000th epoch: train accuracy: 0.859 | validation accuracy:0.804\n",
      "For 4500th epoch: train accuracy: 0.781 | validation accuracy:0.810\n",
      "For 5000th epoch: train accuracy: 0.836 | validation accuracy:0.813\n",
      "For 5500th epoch: train accuracy: 0.883 | validation accuracy:0.816\n",
      "For 6000th epoch: train accuracy: 0.898 | validation accuracy:0.818\n",
      "For 6500th epoch: train accuracy: 0.852 | validation accuracy:0.821\n",
      "For 7000th epoch: train accuracy: 0.812 | validation accuracy:0.821\n",
      "For 7500th epoch: train accuracy: 0.844 | validation accuracy:0.823\n",
      "For 8000th epoch: train accuracy: 0.844 | validation accuracy:0.824\n",
      "For 8500th epoch: train accuracy: 0.914 | validation accuracy:0.825\n",
      "For 9000th epoch: train accuracy: 0.867 | validation accuracy:0.827\n",
      "For 9500th epoch: train accuracy: 0.844 | validation accuracy:0.828\n"
     ]
    }
   ],
   "source": [
    "epochs=10000\n",
    "lr=0.001\n",
    "batch=128\n",
    "\n",
    "losses,accuracies,val_accuracies=[],[],[]\n",
    "\n",
    "for i in range(epochs):\n",
    "    sample=np.random.randint(0,X_train.shape[0],size=(batch))\n",
    "    x=X_train[sample].reshape((-1,28*28))\n",
    "    y=Y_train[sample]\n",
    "\n",
    "\n",
    "    out,update_l1,update_l2=forward_backward_pass(x,y)\n",
    "\n",
    "    category=np.argmax(out,axis=1)\n",
    "    accuracy=(category==y).mean()\n",
    "    accuracies.append(accuracy)\n",
    "\n",
    "    loss=((category-y)**2).mean()\n",
    "    losses.append(loss.item())\n",
    "\n",
    "    l1=l1-lr*update_l1\n",
    "    l2=l2-lr*update_l2\n",
    "\n",
    "    if(i%20==0):\n",
    "        X_val=X_val.reshape((-1,28*28))\n",
    "        val_out=np.argmax(softmax(sigmoid(X_val.dot(l1)).dot(l2)),axis=1)\n",
    "        val_acc=(val_out==Y_val).mean()\n",
    "        val_accuracies.append(val_acc.item())\n",
    "    if(i%500==0): print(f'For {i}th epoch: train accuracy: {accuracy:.3f} | validation accuracy:{val_acc:.3f}')\n"
   ],
   "metadata": {
    "collapsed": false,
    "pycharm": {
     "name": "#%%\n"
    }
   }
  },
  {
   "cell_type": "code",
   "execution_count": 66,
   "outputs": [
    {
     "data": {
      "text/plain": "[<matplotlib.lines.Line2D at 0x2ae38f78700>]"
     },
     "execution_count": 66,
     "metadata": {},
     "output_type": "execute_result"
    },
    {
     "data": {
      "text/plain": "<Figure size 432x288 with 1 Axes>",
      "image/png": "[encoded data removed]"
     },
     "metadata": {
      "needs_background": "light"
     },
     "output_type": "display_data"
    }
   ],
   "source": [
    "plt.ylim(-0.1, 1.1)\n",
    "plt.plot(accuracies)"
   ],
   "metadata": {
    "collapsed": false,
    "pycharm": {
     "name": "#%%\n"
    }
   }
  },
  {
   "cell_type": "code",
   "execution_count": 67,
   "outputs": [
    {
     "data": {
      "text/plain": "[<matplotlib.lines.Line2D at 0x2ae390b29d0>]"
     },
     "execution_count": 67,
     "metadata": {},
     "output_type": "execute_result"
    },
    {
     "data": {
      "text/plain": "<Figure size 432x288 with 1 Axes>",
      "image/png": "[encoded data removed]"
     },
     "metadata": {
      "needs_background": "light"
     },
     "output_type": "display_data"
    }
   ],
   "source": [
    "plt.plot(val_accuracies)"
   ],
   "metadata": {
    "collapsed": false,
    "pycharm": {
     "name": "#%%\n"
    }
   }
  },
  {
   "cell_type": "code",
   "execution_count": 68,
   "outputs": [
    {
     "name": "stdout",
     "output_type": "stream",
     "text": [
      "Test accuracy = 81.68%\n"
     ]
    }
   ],
   "source": [
    "test_out=np.argmax(softmax(sigmoid(X_test.dot(l1)).dot(l2)),axis=1)\n",
    "test_acc=(test_out==Y_test).mean().item()\n",
    "print(f'Test accuracy = {test_acc*100:.2f}%')"
   ],
   "metadata": {
    "collapsed": false,
    "pycharm": {
     "name": "#%%\n"
    }
   }
  },
  {
   "cell_type": "code",
   "execution_count": 69,
   "outputs": [
    {
     "data": {
      "text/plain": "array([6], dtype=int64)"
     },
     "execution_count": 69,
     "metadata": {},
     "output_type": "execute_result"
    },
    {
     "data": {
      "text/plain": "<Figure size 432x288 with 1 Axes>",
      "image/png": "[encoded data removed]"
     },
     "metadata": {
      "needs_background": "light"
     },
     "output_type": "display_data"
    }
   ],
   "source": [
    "m = [[0,0,0,0,0,0,0],\n",
    "     [0,0,10,10,10,0,0],\n",
    "     [0,0,0,0,10,0,0],\n",
    "     [0,0,0,0,10,0,0],\n",
    "     [0,0,0,0,10,0,0],\n",
    "     [0,0,0,0,10,0,0],\n",
    "     [0,0,0,0,0,0,0]]\n",
    "\n",
    "m = np.concatenate([np.concatenate([[x]*4 for x in y]*4) for y in m])\n",
    "m=m.reshape(1,-1)\n",
    "imshow(m.reshape(28,28))\n",
    "x = np.argmax(sigmoid(m.dot(l1)).dot(l2),axis=1)\n",
    "x"
   ],
   "metadata": {
    "collapsed": false,
    "pycharm": {
     "name": "#%%\n"
    }
   }
  },
  {
   "cell_type": "code",
   "execution_count": 70,
   "outputs": [
    {
     "data": {
      "text/plain": "array([1], dtype=int64)"
     },
     "execution_count": 70,
     "metadata": {},
     "output_type": "execute_result"
    },
    {
     "data": {
      "text/plain": "<Figure size 432x288 with 1 Axes>",
      "image/png": "[encoded data removed]"
     },
     "metadata": {
      "needs_background": "light"
     },
     "output_type": "display_data"
    }
   ],
   "source": [
    "n = [[0,0,0,0,0,0,0],\n",
    "     [0,0,0,10,0,0,0],\n",
    "     [0,0,0,10,0,0,0],\n",
    "     [0,0,0,10,0,0,0],\n",
    "     [0,0,0,10,0,0,0],\n",
    "     [0,0,0,10,0,0,0],\n",
    "     [0,0,0,0,0,0,0]]\n",
    "\n",
    "n = np.concatenate([np.concatenate([[x]*4 for x in y]*4) for y in n])\n",
    "n=n.reshape(1,-1)\n",
    "imshow(n.reshape(28,28))\n",
    "x = np.argmax(sigmoid(n.dot(l1)).dot(l2),axis=1)\n",
    "x"
   ],
   "metadata": {
    "collapsed": false,
    "pycharm": {
     "name": "#%%\n"
    }
   }
  }
 ],
 "metadata": {
  "kernelspec": {
   "display_name": "Python 3",
   "language": "python",
   "name": "python3"
  },
  "language_info": {
   "codemirror_mode": {
    "name": "ipython",
    "version": 2
   },
   "file_extension": ".py",
   "mimetype": "text/x-python",
   "name": "python",
   "nbconvert_exporter": "python",
   "pygments_lexer": "ipython2",
   "version": "2.7.6"
  }
 },
 "nbformat": 4,
 "nbformat_minor": 0
}